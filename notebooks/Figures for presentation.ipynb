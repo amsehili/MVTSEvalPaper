{
 "cells": [
  {
   "cell_type": "code",
   "execution_count": 1,
   "metadata": {},
   "outputs": [],
   "source": [
    "import numpy as np\n",
    "from sklearn.metrics import precision_score, recall_score, f1_score\n",
    "from scipy.stats import binom\n",
    "\n",
    "import matplotlib\n",
    "from matplotlib import pyplot as plt"
   ]
  },
  {
   "cell_type": "code",
   "execution_count": 2,
   "metadata": {},
   "outputs": [],
   "source": [
    "def init_matplotlib(figsize=(16, 6), bgcolor=\"#FFFFFF\"):\n",
    "    matplotlib.rcParams[\"figure.figsize\"] = figsize\n",
    "    matplotlib.rcParams[\"figure.facecolor\"] = bgcolor"
   ]
  },
  {
   "cell_type": "markdown",
   "metadata": {},
   "source": [
    "## Probability of getting a perfect point-adjust recall with different numbers of randomly selected points"
   ]
  },
  {
   "cell_type": "code",
   "execution_count": 3,
   "metadata": {},
   "outputs": [
    {
     "data": {
      "image/png": "[encoded data removed]",
      "text/plain": [
       "<Figure size 432x288 with 1 Axes>"
      ]
     },
     "metadata": {
      "needs_background": "light"
     },
     "output_type": "display_data"
    }
   ],
   "source": [
    "contamination_rate = 0.1\n",
    "\n",
    "n = [1] + np.arange(5, 50 + 1, 5).tolist()\n",
    "\n",
    "# compute the probability of getting zero success (k = 0)\n",
    "# with different values of n\n",
    "probas = binom.pmf(k=0, n=n, p=contamination_rate)\n",
    "\n",
    "# deduce the probability of getting at least one success\n",
    "probas = 1 - probas\n",
    "\n",
    "plt.bar(np.arange(len(n)), probas, width=0.4)\n",
    "_ = plt.xticks(np.arange(len(n)), n)\n",
    "\n",
    "plt.xticks(fontsize=12)\n",
    "plt.xlabel(\"Number of randomly selected points\", fontsize=16)\n",
    "plt.ylabel(\"$p($\" + \"R$_{pa}=1)$\", rotation=0, labelpad=45, fontsize=16)\n",
    "\n",
    "# plt.savefig(\"figures/prob-perfect-R-pa-diff-alpha.png\", dpi=600, bbox_inches=\"tight\")"
   ]
  },
  {
   "cell_type": "markdown",
   "metadata": {},
   "source": [
    "## Expected point-adjust F1 with 50 random points and different segment lengths\n",
    "While the contamination rate and the number of randomly selected points are constant (0.1 and 50 respectively), different segment lengths yield different expected $\\text{F1}_{pa}$ values. For a segment length of over 500 points (mostly corresponding to datasets like SWaT and Wadi), the expected $\\text{F1}_{pa}$ score is $>0.95$."
   ]
  },
  {
   "cell_type": "code",
   "execution_count": 4,
   "metadata": {},
   "outputs": [
    {
     "data": {
      "image/png": "[encoded data removed]",
      "text/plain": [
       "<Figure size 432x288 with 1 Axes>"
      ]
     },
     "metadata": {
      "needs_background": "light"
     },
     "output_type": "display_data"
    }
   ],
   "source": [
    "exp_F1_pa = []\n",
    "anomalous_seg_len = [1, 10, 50, 100, 500, 1000]\n",
    "for A in anomalous_seg_len:\n",
    "\n",
    "    # take the highest value of n (50)\n",
    "    N = 50\n",
    "    k = np.arange(0, N + 1)\n",
    "\n",
    "    pmf = binom.pmf(k=k, n=N, p=0.1)\n",
    "\n",
    "    # point-adjust recall is 0 only when k == 0\n",
    "    R_pa = np.ones_like(k)\n",
    "    R_pa[0] = 0\n",
    "\n",
    "    # compute point-adjust precision\n",
    "    TP = np.ones_like(k) * A\n",
    "    TP[0] = 0\n",
    "    FP = N - k\n",
    "    P_pa = TP / (TP + FP)\n",
    "\n",
    "    F1_pa = (2 * P_pa * R_pa) / (P_pa + R_pa + 0.0001)\n",
    "\n",
    "    exp_F1_pa.append((F1_pa * pmf).sum())\n",
    "\n",
    "plt.bar(np.arange(len(exp_F1_pa)), exp_F1_pa, width=0.4)\n",
    "_ = plt.xticks(np.arange(len(anomalous_seg_len)), anomalous_seg_len)\n",
    "\n",
    "plt.xticks(fontsize=12)\n",
    "plt.xlabel(\"Length of anomalous segment\", fontsize=16)\n",
    "plt.ylabel(\"$E($\" + \"F1$_\" + \"{\" + \"pa\" + \"})$\", rotation=0, labelpad=40, fontsize=16)\n",
    "plt.tight_layout()\n",
    "\n",
    "# plt.savefig(\"figures/exp-f1-pa.png\", dpi=600, bbox_inches=\"tight\")"
   ]
  }
 ],
 "metadata": {
  "kernelspec": {
   "display_name": "Python 3",
   "language": "python",
   "name": "python3"
  },
  "language_info": {
   "codemirror_mode": {
    "name": "ipython",
    "version": 3
   },
   "file_extension": ".py",
   "mimetype": "text/x-python",
   "name": "python",
   "nbconvert_exporter": "python",
   "pygments_lexer": "ipython3",
   "version": "3.7.6"
  }
 },
 "nbformat": 4,
 "nbformat_minor": 4
}
